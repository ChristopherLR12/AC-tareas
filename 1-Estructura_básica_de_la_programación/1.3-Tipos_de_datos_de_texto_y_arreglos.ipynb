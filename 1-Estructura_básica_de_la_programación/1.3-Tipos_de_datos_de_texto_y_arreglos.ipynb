{
 "cells": [
  {
   "cell_type": "markdown",
   "id": "0f785daf",
   "metadata": {},
   "source": [
    "# Tipos de dato de texto y arreglos\n",
    "\n",
    "En este _notebook_ veremos algunos conceptos fundamentales de programación presentes en la mayoría de los lenguajes de alto nivel."
   ]
  },
  {
   "cell_type": "markdown",
   "id": "cc36e7bb",
   "metadata": {},
   "source": [
    "## Tipos de datos de texto\n",
    "\n",
    "Poder trabajar con texto siempre es deseable, pues esta funcionalidad es necesaria para, por ejemplo, poder interactuar con la persona que esté usando el programa, imprimiendo instrucciones en pantalla de qué hacer o pidiéndole que ingrese algunos datos en algún punto de la ejecución del programa.\n",
    "\n",
    "### `Char`\n",
    "\n",
    "El tipo de dato de texto primitivo en Julia es `Char`. Cualquier símbolo envuelto en comillas ' ' será considerado como un dato de tipo `Char`:"
   ]
  },
  {
   "cell_type": "code",
   "execution_count": null,
   "id": "24db7b73",
   "metadata": {},
   "outputs": [],
   "source": [
    "'a'"
   ]
  },
  {
   "cell_type": "code",
   "execution_count": null,
   "id": "dcec22eb",
   "metadata": {},
   "outputs": [],
   "source": [
    "typeof('a')"
   ]
  },
  {
   "cell_type": "markdown",
   "id": "f0e7c7fa",
   "metadata": {},
   "source": [
    "La primera celda nos revela que Julia interpreta el símbolo `a` según su clave de [Unicode](https://en.wikipedia.org/wiki/Unicode), el cual es un estándar mundial que asigna una clave única a 144,697 caracteres en alrededor de 159 idiomas.\n",
    "\n",
    "Muchos símbolos con clave Unicode que pueden ser escritos con un comando de LaTeX también se pueden escribir en Julia con el mismo comando usando \"auto completación\" con la tecla TAB. Por ejemplo, para escribir $\\alpha$ en el REPL de Julia o en una celda de Jupyter, basta escribir el comando de LaTeX `\\alpha` y luego presionar la tecla TAB:"
   ]
  },
  {
   "cell_type": "code",
   "execution_count": 1,
   "id": "6a750426",
   "metadata": {},
   "outputs": [
    {
     "ename": "LoadError",
     "evalue": "UndefVarError: α not defined",
     "output_type": "error",
     "traceback": [
      "UndefVarError: α not defined",
      "",
      "Stacktrace:",
      " [1] top-level scope",
      "   @ :0",
      " [2] eval",
      "   @ .\\boot.jl:373 [inlined]",
      " [3] include_string(mapexpr::typeof(REPL.softscope), mod::Module, code::String, filename::String)",
      "   @ Base .\\loading.jl:1196"
     ]
    }
   ],
   "source": [
    " α # ¡Escribe α al inicio de esta celda (sin copiar y pegar)!"
   ]
  },
  {
   "cell_type": "markdown",
   "id": "1b07844f",
   "metadata": {},
   "source": [
    "La \"auto completación\" significa que si escribimos un comando parcial de LaTeX que Julia puede representar con un caracter Unicode y presionamos la tecla TAB, aparecerá una lista con todos los comandos de LaTeX que empiezan con esas mismas letras y que pueden ser representados por un caracter Unicode."
   ]
  },
  {
   "cell_type": "code",
   "execution_count": null,
   "id": "d57cd2c5",
   "metadata": {},
   "outputs": [],
   "source": [
    "\\al # Mira las opciones presionando la tecla TAB"
   ]
  },
  {
   "cell_type": "markdown",
   "id": "0fa7834e",
   "metadata": {},
   "source": [
    "Los caracteres que pueden ser representados de esta manera se pueden consultar en la [documentación de Julia](https://docs.julialang.org/en/v1/manual/unicode-input/#Unicode-Input).\n",
    "\n",
    "Es importante recordar que todo símbolo que escribamos entre commillas ' ' será interpretado por Julia como un dato de tipo `Char` por lo que, por ejemplo, el siguiente código no funcionará"
   ]
  },
  {
   "cell_type": "code",
   "execution_count": null,
   "id": "eba9fc6b",
   "metadata": {},
   "outputs": [],
   "source": [
    "'5' + '3' # Julia los interpreta como Char, no como Int"
   ]
  },
  {
   "cell_type": "markdown",
   "id": "c06ceaf7",
   "metadata": {},
   "source": [
    "pues el operador `+` no está definido para datos de tipo `Char`."
   ]
  },
  {
   "cell_type": "markdown",
   "id": "4e4de5de",
   "metadata": {},
   "source": [
    "### `print` y `println`\n",
    "\n",
    "Las principales funciones para imprimir caracteres en Julia son `print` y `println`. La diferencia entre ellas es que `println` crea una _nueva línea_ después de haber impreso el caracter de su argumento."
   ]
  },
  {
   "cell_type": "code",
   "execution_count": 2,
   "id": "87e182cf",
   "metadata": {},
   "outputs": [
    {
     "name": "stdout",
     "output_type": "stream",
     "text": [
      "a b"
     ]
    }
   ],
   "source": [
    "print('a')\n",
    "print(' ')\n",
    "print('b')\n",
    "# Compara el resultado de esta celda..."
   ]
  },
  {
   "cell_type": "code",
   "execution_count": 4,
   "id": "08cb057c",
   "metadata": {},
   "outputs": [
    {
     "name": "stdout",
     "output_type": "stream",
     "text": [
      "a\n",
      "b"
     ]
    }
   ],
   "source": [
    "# ...con el de ésta.\n",
    "println('a')\n",
    "print('b')"
   ]
  },
  {
   "cell_type": "markdown",
   "id": "2e36f9bb",
   "metadata": {},
   "source": [
    "### `String`\n",
    "\n",
    "Trabajar texto siempre a nivel de caracteres resulta impráctico. Para escribir secuencias de caracteres, existe un tipo de dato llamado `String`. Para escribir un dato de tipo `String`, debemos envolver símbolos entre dobles comillas \" \":"
   ]
  },
  {
   "cell_type": "code",
   "execution_count": 5,
   "id": "d96e479d",
   "metadata": {},
   "outputs": [
    {
     "data": {
      "text/plain": [
       "\"¡Hola, mundo!\""
      ]
     },
     "execution_count": 5,
     "metadata": {},
     "output_type": "execute_result"
    }
   ],
   "source": [
    "\"¡Hola, mundo!\""
   ]
  },
  {
   "cell_type": "code",
   "execution_count": 6,
   "id": "9bfe6c65",
   "metadata": {},
   "outputs": [
    {
     "data": {
      "text/plain": [
       "String"
      ]
     },
     "execution_count": 6,
     "metadata": {},
     "output_type": "execute_result"
    }
   ],
   "source": [
    "typeof(\"¡Hola, mundo!\")"
   ]
  },
  {
   "cell_type": "markdown",
   "id": "85fe4080",
   "metadata": {},
   "source": [
    "Podemos utilizar las funciones `print` y `println` con datos de tipo `String` como lo hacíamos con los de tipo `Char`."
   ]
  },
  {
   "cell_type": "code",
   "execution_count": 7,
   "id": "9a9f9928",
   "metadata": {
    "scrolled": true
   },
   "outputs": [
    {
     "name": "stdout",
     "output_type": "stream",
     "text": [
      "¡Hola, mundo!"
     ]
    }
   ],
   "source": [
    "print(\"¡Hola, mundo!\")\n",
    "#= Este programa es típicamente lo primero que alguien aprende a hacer\n",
    "   cuando conoce un nuevo lenguaje de programación de alto nivel =#"
   ]
  },
  {
   "cell_type": "markdown",
   "id": "b6f72cb1",
   "metadata": {},
   "source": [
    "Observamos que los operadores aritméticos tampoco funcionan con datos de tipo `String`:"
   ]
  },
  {
   "cell_type": "code",
   "execution_count": null,
   "id": "509a8357",
   "metadata": {},
   "outputs": [],
   "source": [
    "\"2.0\" - \"73.1\" # Julia los interpreta como String, no como Float"
   ]
  },
  {
   "cell_type": "markdown",
   "id": "bc9384ff",
   "metadata": {},
   "source": [
    "## Arreglos"
   ]
  },
  {
   "cell_type": "markdown",
   "id": "617370a7",
   "metadata": {},
   "source": [
    "### Matrices\n",
    "\n",
    "En el _notebook_ `1.1-Operadores_aritméticos_y_tipos_de_datos_numéricos.ipynb` vimos cómo hacer operaciones entre números. Sin embargo, dada la utilidad de acomodar números en arreglos -como vectores y matrices- y hacer operaciones entre ellos, existe una implementación de lo anterior en Julia.\n",
    "\n",
    "Un arreglo en Julia es delimitado por corchetes `[]`. Para escribir una matriz, escribimos las entradas de un _vector renglón_ separadas por un espacio y utilizamos el símbolo `;` para crear la siguiente línea e introducir el siguiente vector renglón:"
   ]
  },
  {
   "cell_type": "code",
   "execution_count": 10,
   "id": "57006dcf",
   "metadata": {
    "scrolled": false
   },
   "outputs": [
    {
     "data": {
      "text/plain": [
       "3×3 Matrix{Int64}:\n",
       " 1  2  3\n",
       " 4  5  6\n",
       " 7  8  9"
      ]
     },
     "execution_count": 10,
     "metadata": {},
     "output_type": "execute_result"
    }
   ],
   "source": [
    "[1 2 3 ; 4 5 6 ; 7 8 9]"
   ]
  },
  {
   "cell_type": "markdown",
   "id": "337fc5df",
   "metadata": {},
   "source": [
    "Podemos usar los operadores aritméticos `+`, `-` y `*` para hacer operaciones entre matrices, siempre que las dimensiones coincidan de tal forma que la operacion esté bien definida:"
   ]
  },
  {
   "cell_type": "code",
   "execution_count": 11,
   "id": "cac1f3a8",
   "metadata": {},
   "outputs": [
    {
     "data": {
      "text/plain": [
       "3×3 Matrix{Int64}:\n",
       " 2  2   3\n",
       " 4  5   6\n",
       " 7  9  10"
      ]
     },
     "execution_count": 11,
     "metadata": {},
     "output_type": "execute_result"
    }
   ],
   "source": [
    "[1 2 3 ; 4 5 6 ; 7 8 9] + [1 0 0 ; 0 0 0 ; 0 1 1]"
   ]
  },
  {
   "cell_type": "code",
   "execution_count": 12,
   "id": "77d522e8",
   "metadata": {},
   "outputs": [
    {
     "ename": "LoadError",
     "evalue": "DimensionMismatch(\"dimensions must match: a has dims (Base.OneTo(2), Base.OneTo(3)), b has dims (Base.OneTo(3), Base.OneTo(3)), mismatch at 1\")",
     "output_type": "error",
     "traceback": [
      "DimensionMismatch(\"dimensions must match: a has dims (Base.OneTo(2), Base.OneTo(3)), b has dims (Base.OneTo(3), Base.OneTo(3)), mismatch at 1\")",
      "",
      "Stacktrace:",
      " [1] promote_shape",
      "   @ .\\indices.jl:178 [inlined]",
      " [2] promote_shape(a::Matrix{Int64}, b::Matrix{Int64})",
      "   @ Base .\\indices.jl:169",
      " [3] -(A::Matrix{Int64}, B::Matrix{Int64})",
      "   @ Base .\\arraymath.jl:38",
      " [4] top-level scope",
      "   @ In[12]:1",
      " [5] eval",
      "   @ .\\boot.jl:373 [inlined]",
      " [6] include_string(mapexpr::typeof(REPL.softscope), mod::Module, code::String, filename::String)",
      "   @ Base .\\loading.jl:1196"
     ]
    }
   ],
   "source": [
    "[1 2 3 ; 4 5 6] - [1 0 0 ; 0 0 0 ; 0 1 1]\n",
    "# Obtenemos un error porque las dimensiones no coindicen"
   ]
  },
  {
   "cell_type": "code",
   "execution_count": 13,
   "id": "c28004ae",
   "metadata": {},
   "outputs": [
    {
     "data": {
      "text/plain": [
       "2×2 Matrix{Int64}:\n",
       " 22  28\n",
       " 49  64"
      ]
     },
     "execution_count": 13,
     "metadata": {},
     "output_type": "execute_result"
    }
   ],
   "source": [
    "[1 2 3 ; 4 5 6] * [1 2 ; 3 4 ; 5 6]\n",
    "#= En este ejemplo, a pesar de que las dimensiones difieran, ¡lo hacen de\n",
    "   tal forma que la multiplicación de las matrices esté bien definida! =#"
   ]
  },
  {
   "cell_type": "markdown",
   "id": "9ac3bf08",
   "metadata": {},
   "source": [
    "Más aún, el operador `*` se puede usar para multiplicar una matriz por un escalar:"
   ]
  },
  {
   "cell_type": "code",
   "execution_count": 14,
   "id": "cc8a7831",
   "metadata": {
    "scrolled": true
   },
   "outputs": [
    {
     "data": {
      "text/plain": [
       "3×3 Matrix{Int64}:\n",
       "  5  10  15\n",
       " 20  25  30\n",
       " 35  40  45"
      ]
     },
     "execution_count": 14,
     "metadata": {},
     "output_type": "execute_result"
    }
   ],
   "source": [
    "5 * [1 2 3 ; 4 5 6 ; 7 8 9]"
   ]
  },
  {
   "cell_type": "code",
   "execution_count": 15,
   "id": "ce0db540",
   "metadata": {},
   "outputs": [
    {
     "data": {
      "text/plain": [
       "3×3 Matrix{Int64}:\n",
       "  5  10  15\n",
       " 20  25  30\n",
       " 35  40  45"
      ]
     },
     "execution_count": 15,
     "metadata": {},
     "output_type": "execute_result"
    }
   ],
   "source": [
    "[1 2 3 ; 4 5 6 ; 7 8 9] * 5"
   ]
  },
  {
   "cell_type": "markdown",
   "id": "52e55178",
   "metadata": {},
   "source": [
    "Sin embargo, esto falla para otros tipos de operaciones:"
   ]
  },
  {
   "cell_type": "code",
   "execution_count": 16,
   "id": "d079c415",
   "metadata": {},
   "outputs": [
    {
     "ename": "LoadError",
     "evalue": "MethodError: no method matching +(::Matrix{Int64}, ::Int64)\nFor element-wise addition, use broadcasting with dot syntax: array .+ scalar\n\u001b[0mClosest candidates are:\n\u001b[0m  +(::Any, ::Any, \u001b[91m::Any\u001b[39m, \u001b[91m::Any...\u001b[39m) at C:\\Users\\c-lop\\AppData\\Local\\Programs\\Julia-1.7.2\\share\\julia\\base\\operators.jl:655\n\u001b[0m  +(\u001b[91m::T\u001b[39m, ::T) where T<:Union{Int128, Int16, Int32, Int64, Int8, UInt128, UInt16, UInt32, UInt64, UInt8} at C:\\Users\\c-lop\\AppData\\Local\\Programs\\Julia-1.7.2\\share\\julia\\base\\int.jl:87\n\u001b[0m  +(\u001b[91m::Rational\u001b[39m, ::Integer) at C:\\Users\\c-lop\\AppData\\Local\\Programs\\Julia-1.7.2\\share\\julia\\base\\rational.jl:311\n\u001b[0m  ...",
     "output_type": "error",
     "traceback": [
      "MethodError: no method matching +(::Matrix{Int64}, ::Int64)\nFor element-wise addition, use broadcasting with dot syntax: array .+ scalar\n\u001b[0mClosest candidates are:\n\u001b[0m  +(::Any, ::Any, \u001b[91m::Any\u001b[39m, \u001b[91m::Any...\u001b[39m) at C:\\Users\\c-lop\\AppData\\Local\\Programs\\Julia-1.7.2\\share\\julia\\base\\operators.jl:655\n\u001b[0m  +(\u001b[91m::T\u001b[39m, ::T) where T<:Union{Int128, Int16, Int32, Int64, Int8, UInt128, UInt16, UInt32, UInt64, UInt8} at C:\\Users\\c-lop\\AppData\\Local\\Programs\\Julia-1.7.2\\share\\julia\\base\\int.jl:87\n\u001b[0m  +(\u001b[91m::Rational\u001b[39m, ::Integer) at C:\\Users\\c-lop\\AppData\\Local\\Programs\\Julia-1.7.2\\share\\julia\\base\\rational.jl:311\n\u001b[0m  ...",
      "",
      "Stacktrace:",
      " [1] top-level scope",
      "   @ In[16]:1",
      " [2] eval",
      "   @ .\\boot.jl:373 [inlined]",
      " [3] include_string(mapexpr::typeof(REPL.softscope), mod::Module, code::String, filename::String)",
      "   @ Base .\\loading.jl:1196"
     ]
    }
   ],
   "source": [
    "[1 2 3 ; 4 5 6 ; 7 8 9] + 5 # Esto nos devolverá un mensaje de error"
   ]
  },
  {
   "cell_type": "markdown",
   "id": "903d5e1c",
   "metadata": {},
   "source": [
    "Si queremos aplicar un operador a _cada una de las entradas de un arreglo_, generalmente funciona colocar un punto `.` antes del operador, como en los ejemplos siguientes:"
   ]
  },
  {
   "cell_type": "code",
   "execution_count": 17,
   "id": "83f5acd9",
   "metadata": {},
   "outputs": [
    {
     "data": {
      "text/plain": [
       "3×3 Matrix{Int64}:\n",
       "  6   7   8\n",
       "  9  10  11\n",
       " 12  13  14"
      ]
     },
     "execution_count": 17,
     "metadata": {},
     "output_type": "execute_result"
    }
   ],
   "source": [
    "[1 2 3 ; 4 5 6 ; 7 8 9] .+ 5 # Esto suma 5 a cada entrada de la matriz"
   ]
  },
  {
   "cell_type": "code",
   "execution_count": 18,
   "id": "d055d4a3",
   "metadata": {},
   "outputs": [
    {
     "data": {
      "text/plain": [
       "1×3 Matrix{Float64}:\n",
       " 5.0  2.5  6.2"
      ]
     },
     "execution_count": 18,
     "metadata": {},
     "output_type": "execute_result"
    }
   ],
   "source": [
    "[6.0 3.5 7.2] .- 1 # Esto resta el flotante 1.0 a cada entrada del vector"
   ]
  },
  {
   "cell_type": "markdown",
   "id": "46893b73",
   "metadata": {},
   "source": [
    "**Nota** A pesar de que en este caso utilicemos los operadores aritméticos para hacer operaciones entre _arreglos de números_ en vez de sólo números, estos tienen la misma precedencia y asociatividad que discutimos en el _notebook_ \n",
    "\n",
    "`1.1-Operadores_aritméticos_y_tipos_de_datos_numéricos.ipynb`."
   ]
  },
  {
   "cell_type": "markdown",
   "id": "63308d7c",
   "metadata": {},
   "source": [
    "**Ejercicio** ¿Qué tipo de dato tiene la matriz `[1 2 3 ; 4 5 6 ; 7 8 9]`? ¿Es un tipo de dato primitivo o compuesto?"
   ]
  },
  {
   "cell_type": "code",
   "execution_count": 19,
   "id": "261485b7",
   "metadata": {},
   "outputs": [
    {
     "data": {
      "text/plain": [
       "Matrix{Int64} (alias for Array{Int64, 2})"
      ]
     },
     "execution_count": 19,
     "metadata": {},
     "output_type": "execute_result"
    }
   ],
   "source": [
    "typeof([1 2 3 ; 4 5 6 ; 7 8 9]) # ¿Recuerdas qué función usar para averiguar esto?"
   ]
  },
  {
   "cell_type": "markdown",
   "id": "76e05395",
   "metadata": {},
   "source": [
    "**Nota** Es importante separar las entradas de las matrices con espacios pues, de lo contario, Julia las intentará interpretar como cifras de un mismo número. Sin embargo, el separador de renglones `;` no necesita que dejemos espacios antes ni después de él; aún así, recomendamos esta práctica para tener mayor claridad y legibilidad. "
   ]
  },
  {
   "cell_type": "markdown",
   "id": "d5d6761d",
   "metadata": {},
   "source": [
    "### Vectores\n",
    "\n",
    "Siguiendo la discusión anterior, si quisiéramos escribir a un vector al cual le podamos aplicar una matriz con el operador `*`, tendríamos que escribirlo como un _vector columna_, es decir, una matriz de una sola columna."
   ]
  },
  {
   "cell_type": "code",
   "execution_count": 20,
   "id": "206beb31",
   "metadata": {},
   "outputs": [
    {
     "data": {
      "text/plain": [
       "3-element Vector{Int64}:\n",
       " 1\n",
       " 2\n",
       " 3"
      ]
     },
     "execution_count": 20,
     "metadata": {},
     "output_type": "execute_result"
    }
   ],
   "source": [
    "[1 ; 2 ; 3]"
   ]
  },
  {
   "cell_type": "code",
   "execution_count": 21,
   "id": "15d43c36",
   "metadata": {},
   "outputs": [
    {
     "data": {
      "text/plain": [
       "3-element Vector{Int64}:\n",
       " 1\n",
       " 2\n",
       " 3"
      ]
     },
     "execution_count": 21,
     "metadata": {},
     "output_type": "execute_result"
    }
   ],
   "source": [
    "[1 0 0 ; 0 1 0 ; 0 0 1] * [1 ; 2 ; 3] # Aplicando la matriz identidad de 3x3"
   ]
  },
  {
   "cell_type": "markdown",
   "id": "31b4d29a",
   "metadata": {},
   "source": [
    "Una forma equivalente de escribir vectores es separando cada entrada con un símbolo de coma `,`:"
   ]
  },
  {
   "cell_type": "code",
   "execution_count": 22,
   "id": "7b385587",
   "metadata": {},
   "outputs": [
    {
     "data": {
      "text/plain": [
       "3-element Vector{Int64}:\n",
       " 1\n",
       " 2\n",
       " 3"
      ]
     },
     "execution_count": 22,
     "metadata": {},
     "output_type": "execute_result"
    }
   ],
   "source": [
    "[1, 2, 3]"
   ]
  },
  {
   "cell_type": "code",
   "execution_count": 23,
   "id": "43e3f681",
   "metadata": {},
   "outputs": [
    {
     "data": {
      "text/plain": [
       "3-element Vector{Int64}:\n",
       " 1\n",
       " 2\n",
       " 3"
      ]
     },
     "execution_count": 23,
     "metadata": {},
     "output_type": "execute_result"
    }
   ],
   "source": [
    "[1 0 0 ; 0 1 0 ; 0 0 1] * [1, 2, 3]"
   ]
  },
  {
   "cell_type": "markdown",
   "id": "a352f1a3",
   "metadata": {},
   "source": [
    "Es decir, si escribimos un arreglo de números separados por comas como `[a, b, c, d]`, Julia lo interpretará como el vector columna con entradas `a`, `b`, `c` y `d`, equivalente a la matriz de una sola columna `[a ; b ; c ; d]`."
   ]
  },
  {
   "cell_type": "markdown",
   "id": "d9d566fc",
   "metadata": {},
   "source": [
    "**Ejercicio** ¿Qué tipo de dato tiene el vector `[6.0, 3.5, 7.2]`?"
   ]
  },
  {
   "cell_type": "code",
   "execution_count": 24,
   "id": "8d9420d1",
   "metadata": {},
   "outputs": [
    {
     "data": {
      "text/plain": [
       "3-element Vector{Float64}:\n",
       " 6.0\n",
       " 3.5\n",
       " 7.2"
      ]
     },
     "execution_count": 24,
     "metadata": {},
     "output_type": "execute_result"
    }
   ],
   "source": [
    "[6.0, 3.5, 7.2]"
   ]
  },
  {
   "cell_type": "code",
   "execution_count": 25,
   "id": "d53211c0",
   "metadata": {},
   "outputs": [
    {
     "data": {
      "text/plain": [
       "Vector{Float64} (alias for Array{Float64, 1})"
      ]
     },
     "execution_count": 25,
     "metadata": {},
     "output_type": "execute_result"
    }
   ],
   "source": [
    "typeof([6.0, 3.5, 7.2])"
   ]
  },
  {
   "cell_type": "code",
   "execution_count": 26,
   "id": "7ff3d0a1",
   "metadata": {},
   "outputs": [
    {
     "data": {
      "text/plain": [
       "3×3 Matrix{Int64}:\n",
       " 1  2  3\n",
       " 4  5  6\n",
       " 7  8  9"
      ]
     },
     "execution_count": 26,
     "metadata": {},
     "output_type": "execute_result"
    }
   ],
   "source": [
    "[1 2 3 ; 4 5 6 ; 7 8 9]"
   ]
  },
  {
   "cell_type": "code",
   "execution_count": 27,
   "id": "ba073e25",
   "metadata": {},
   "outputs": [
    {
     "data": {
      "text/plain": [
       "Matrix{Int64} (alias for Array{Int64, 2})"
      ]
     },
     "execution_count": 27,
     "metadata": {},
     "output_type": "execute_result"
    }
   ],
   "source": [
    "typeof([1 2 3 ; 4 5 6 ; 7 8 9])"
   ]
  },
  {
   "cell_type": "markdown",
   "id": "b67af3aa",
   "metadata": {},
   "source": [
    "### Índices y subarreglos\n",
    "\n",
    "¿Qué hacemos si queremos acceder al valor de alguna entrada específica de un vector? Julia le asigna a cada entrada de un vector un _índice_ que **empieza por el número `1`**. Para acceder a la $i$-ésima entrada de un vector, debemos escribir `[i]` a la derecha del vector _sin dejar espacio_: "
   ]
  },
  {
   "cell_type": "code",
   "execution_count": 28,
   "id": "79417565",
   "metadata": {},
   "outputs": [
    {
     "data": {
      "text/plain": [
       "10"
      ]
     },
     "execution_count": 28,
     "metadata": {},
     "output_type": "execute_result"
    }
   ],
   "source": [
    "[10, 8, 5][1]"
   ]
  },
  {
   "cell_type": "code",
   "execution_count": 29,
   "id": "adfa59f8",
   "metadata": {},
   "outputs": [
    {
     "data": {
      "text/plain": [
       "8"
      ]
     },
     "execution_count": 29,
     "metadata": {},
     "output_type": "execute_result"
    }
   ],
   "source": [
    "[10, 8, 5][2]"
   ]
  },
  {
   "cell_type": "code",
   "execution_count": 30,
   "id": "5ebfd884",
   "metadata": {},
   "outputs": [
    {
     "ename": "LoadError",
     "evalue": "syntax: space before \"[\" not allowed in \"[10, 8, 5] [\" at In[30]:1",
     "output_type": "error",
     "traceback": [
      "syntax: space before \"[\" not allowed in \"[10, 8, 5] [\" at In[30]:1",
      "",
      "Stacktrace:",
      " [1] top-level scope",
      "   @ In[30]:1",
      " [2] eval",
      "   @ .\\boot.jl:373 [inlined]",
      " [3] include_string(mapexpr::typeof(REPL.softscope), mod::Module, code::String, filename::String)",
      "   @ Base .\\loading.jl:1196"
     ]
    }
   ],
   "source": [
    "[10, 8, 5] [3] # Obtenemos un error inicialmente por haber dejado un espacio"
   ]
  },
  {
   "cell_type": "markdown",
   "id": "9fd17b15",
   "metadata": {},
   "source": [
    "**Ejercicio** Averigua qué sucede cuando intentamos acceder a la $i$-ésima entrada de la siguiente matriz:"
   ]
  },
  {
   "cell_type": "code",
   "execution_count": 36,
   "id": "475a00e3",
   "metadata": {},
   "outputs": [
    {
     "data": {
      "text/plain": [
       "3"
      ]
     },
     "execution_count": 36,
     "metadata": {},
     "output_type": "execute_result"
    }
   ],
   "source": [
    "[1 2 3 ; 4 5 6 ; 7 8 9][7]"
   ]
  },
  {
   "cell_type": "markdown",
   "id": "adf5d84a",
   "metadata": {},
   "source": [
    "Una manera más sencilla de acceder a la entrada del renglón $i$ y columna $j$ de una matriz es utilizando la sintáxis `[i,j]`:"
   ]
  },
  {
   "cell_type": "code",
   "execution_count": 37,
   "id": "e226bdc3",
   "metadata": {},
   "outputs": [
    {
     "data": {
      "text/plain": [
       "5"
      ]
     },
     "execution_count": 37,
     "metadata": {},
     "output_type": "execute_result"
    }
   ],
   "source": [
    "[1 2 3 ; 4 5 6 ; 7 8 9][2,2]"
   ]
  },
  {
   "cell_type": "code",
   "execution_count": 38,
   "id": "d471494a",
   "metadata": {},
   "outputs": [
    {
     "data": {
      "text/plain": [
       "7"
      ]
     },
     "execution_count": 38,
     "metadata": {},
     "output_type": "execute_result"
    }
   ],
   "source": [
    "[1 2 3 ; 4 5 6 ; 7 8 9][3,1]"
   ]
  },
  {
   "cell_type": "markdown",
   "id": "9b4e36ad",
   "metadata": {},
   "source": [
    "Nuestra siguiente pregunta es: ¿qué hacemos si queremos acceder a algún _vector renglón_ o _vector columna_ de una matriz? Para acceder al $i$-ésimo vector renglón, utilizamos la sintáxis `[i,:]`:"
   ]
  },
  {
   "cell_type": "code",
   "execution_count": 39,
   "id": "2eec926e",
   "metadata": {},
   "outputs": [
    {
     "data": {
      "text/plain": [
       "7"
      ]
     },
     "execution_count": 39,
     "metadata": {},
     "output_type": "execute_result"
    }
   ],
   "source": [
    "[1 2 3 ; 4 5 6 ; 7 8 9][3]   # Compara el resultado de esta celda..."
   ]
  },
  {
   "cell_type": "code",
   "execution_count": 40,
   "id": "0d44a563",
   "metadata": {},
   "outputs": [
    {
     "data": {
      "text/plain": [
       "3-element Vector{Int64}:\n",
       " 7\n",
       " 8\n",
       " 9"
      ]
     },
     "execution_count": 40,
     "metadata": {},
     "output_type": "execute_result"
    }
   ],
   "source": [
    "[1 2 3 ; 4 5 6 ; 7 8 9][3,:] # ...con el de ésta."
   ]
  },
  {
   "cell_type": "markdown",
   "id": "78cd711b",
   "metadata": {},
   "source": [
    "Análogamente, para acceder al `j`-ésimo vector columna, utilizamos la sintáxis `[:,j]`:"
   ]
  },
  {
   "cell_type": "code",
   "execution_count": 41,
   "id": "255a1abd",
   "metadata": {},
   "outputs": [
    {
     "data": {
      "text/plain": [
       "3-element Vector{Int64}:\n",
       " 3\n",
       " 6\n",
       " 9"
      ]
     },
     "execution_count": 41,
     "metadata": {},
     "output_type": "execute_result"
    }
   ],
   "source": [
    "[1 2 3 ; 4 5 6 ; 7 8 9][:,3]"
   ]
  },
  {
   "cell_type": "markdown",
   "id": "3f1def08",
   "metadata": {},
   "source": [
    "Puedes pensar que el símbolo `:` significa \"todos los valores posibles\" en la entrada correspondiente de `[i,j]`. La razón de esto quedará clara cuando veamos _rangos_.\n",
    "\n",
    "Los ejemplos anteriores muestran que un arreglo contiene _subarreglos_ a los cuales podemos acceder. Más generalmente, para obtener un arreglo con las entradas $i$, $j$ y $k$ de otro arreglo, podemos utilizar la sintáxis `[[i,j,k]]`:"
   ]
  },
  {
   "cell_type": "code",
   "execution_count": 42,
   "id": "7dd440df",
   "metadata": {},
   "outputs": [
    {
     "data": {
      "text/plain": [
       "3-element Vector{Int64}:\n",
       " 1\n",
       " 5\n",
       " 9"
      ]
     },
     "execution_count": 42,
     "metadata": {},
     "output_type": "execute_result"
    }
   ],
   "source": [
    "[1, 3, 5, 7, 9][[1,3,5]]"
   ]
  },
  {
   "cell_type": "markdown",
   "id": "2ccc7e68",
   "metadata": {},
   "source": [
    "Notamos que en este caso en vez de escribir un sólo índice dentro de los corchetes `[]`, escribimos un _arreglo de índices_, obteniendo como resultado el _subarreglo_ que se obtiene con las entradas correspondientes a esos índices."
   ]
  },
  {
   "cell_type": "markdown",
   "id": "33bc3b1b",
   "metadata": {},
   "source": [
    "### `String` como arreglos de `Char`\n",
    "\n",
    "Los datos de tipo `String` en realidad son arreglos de datos de tipo `Char`, por lo que podemos acceder a cualquiera de sus entradas (que serán datos de tipo `Char`) o de sus subarreglos (que serán de tipo `String`):"
   ]
  },
  {
   "cell_type": "code",
   "execution_count": 47,
   "id": "462cb71a",
   "metadata": {},
   "outputs": [
    {
     "data": {
      "text/plain": [
       "'¡': Unicode U+00A1 (category Po: Punctuation, other)"
      ]
     },
     "execution_count": 47,
     "metadata": {},
     "output_type": "execute_result"
    }
   ],
   "source": [
    "\"¡Hola, mundo!\"[1]"
   ]
  },
  {
   "cell_type": "markdown",
   "id": "f18c8235",
   "metadata": {},
   "source": [
    "**Ejercicio** ¿Cuántas palabras puedes formar con las letras de la frase \"¡Hola, mundo!\"? Obten los _Strings_ correspondientes accediendo a subarreglos del `String` `\"¡Hola, mundo!\"`."
   ]
  },
  {
   "cell_type": "code",
   "execution_count": 53,
   "id": "c5d2e15c",
   "metadata": {},
   "outputs": [
    {
     "data": {
      "text/plain": [
       "\"ola\""
      ]
     },
     "execution_count": 53,
     "metadata": {},
     "output_type": "execute_result"
    }
   ],
   "source": [
    "\"¡Hola, mundo!\"[[4,5,6]]"
   ]
  },
  {
   "cell_type": "code",
   "execution_count": 54,
   "id": "88644ec1",
   "metadata": {},
   "outputs": [
    {
     "data": {
      "text/plain": [
       "\"la\""
      ]
     },
     "execution_count": 54,
     "metadata": {},
     "output_type": "execute_result"
    }
   ],
   "source": [
    "\"¡Hola, mundo!\"[[5,6]]"
   ]
  },
  {
   "cell_type": "code",
   "execution_count": 61,
   "id": "c5c581d5",
   "metadata": {},
   "outputs": [
    {
     "data": {
      "text/plain": [
       "\"mando\""
      ]
     },
     "execution_count": 61,
     "metadata": {},
     "output_type": "execute_result"
    }
   ],
   "source": [
    "\"¡Hola, mundo!\"[[9,6,11,12,13]]"
   ]
  },
  {
   "cell_type": "code",
   "execution_count": 62,
   "id": "bdd5f073",
   "metadata": {
    "scrolled": true
   },
   "outputs": [
    {
     "data": {
      "text/plain": [
       "\"Hondo\""
      ]
     },
     "execution_count": 62,
     "metadata": {},
     "output_type": "execute_result"
    }
   ],
   "source": [
    "\"¡Hola, mundo!\"[[3,4,11,12,13]]"
   ]
  },
  {
   "cell_type": "code",
   "execution_count": 67,
   "id": "283be467",
   "metadata": {},
   "outputs": [
    {
     "data": {
      "text/plain": [
       "\"malo\""
      ]
     },
     "execution_count": 67,
     "metadata": {},
     "output_type": "execute_result"
    }
   ],
   "source": [
    "\"¡Hola, mundo!\"[[9,6,5,4]]"
   ]
  },
  {
   "cell_type": "code",
   "execution_count": 99,
   "id": "c2628789",
   "metadata": {},
   "outputs": [
    {
     "data": {
      "text/plain": [
       "\"mula\""
      ]
     },
     "execution_count": 99,
     "metadata": {},
     "output_type": "execute_result"
    }
   ],
   "source": [
    "\"¡Hola, mundo!\"[[9,10,5,6]]"
   ]
  },
  {
   "cell_type": "code",
   "execution_count": 68,
   "id": "b5d04f42",
   "metadata": {},
   "outputs": [
    {
     "data": {
      "text/plain": [
       "\"lamo\""
      ]
     },
     "execution_count": 68,
     "metadata": {},
     "output_type": "execute_result"
    }
   ],
   "source": [
    "\"¡Hola, mundo!\"[[5,6,9,4]]"
   ]
  },
  {
   "cell_type": "code",
   "execution_count": 70,
   "id": "e777e390",
   "metadata": {},
   "outputs": [
    {
     "data": {
      "text/plain": [
       "\"mudo\""
      ]
     },
     "execution_count": 70,
     "metadata": {},
     "output_type": "execute_result"
    }
   ],
   "source": [
    "\"¡Hola, mundo!\"[[9,10,12,13]]"
   ]
  },
  {
   "cell_type": "code",
   "execution_count": 71,
   "id": "1fc04c20",
   "metadata": {},
   "outputs": [
    {
     "data": {
      "text/plain": [
       "\"muda\""
      ]
     },
     "execution_count": 71,
     "metadata": {},
     "output_type": "execute_result"
    }
   ],
   "source": [
    "\"¡Hola, mundo!\"[[9,10,12,6]]"
   ]
  },
  {
   "cell_type": "code",
   "execution_count": 73,
   "id": "b8c873a3",
   "metadata": {},
   "outputs": [
    {
     "data": {
      "text/plain": [
       "\"mono\""
      ]
     },
     "execution_count": 73,
     "metadata": {},
     "output_type": "execute_result"
    }
   ],
   "source": [
    "\"¡Hola, mundo!\"[[9,4,11,13]]"
   ]
  },
  {
   "cell_type": "code",
   "execution_count": 74,
   "id": "c7b48240",
   "metadata": {},
   "outputs": [
    {
     "data": {
      "text/plain": [
       "\"mona\""
      ]
     },
     "execution_count": 74,
     "metadata": {},
     "output_type": "execute_result"
    }
   ],
   "source": [
    "\"¡Hola, mundo!\"[[9,4,11,6]]"
   ]
  },
  {
   "cell_type": "code",
   "execution_count": 76,
   "id": "7ca0a596",
   "metadata": {},
   "outputs": [
    {
     "data": {
      "text/plain": [
       "\"lado\""
      ]
     },
     "execution_count": 76,
     "metadata": {},
     "output_type": "execute_result"
    }
   ],
   "source": [
    "\"¡Hola, mundo!\"[[5,6,12,13]]"
   ]
  },
  {
   "cell_type": "code",
   "execution_count": 78,
   "id": "c77efe3c",
   "metadata": {},
   "outputs": [
    {
     "data": {
      "text/plain": [
       "\"mano\""
      ]
     },
     "execution_count": 78,
     "metadata": {},
     "output_type": "execute_result"
    }
   ],
   "source": [
    "\"¡Hola, mundo!\"[[9,6,11,13]]"
   ]
  },
  {
   "cell_type": "code",
   "execution_count": 80,
   "id": "ad747735",
   "metadata": {},
   "outputs": [
    {
     "data": {
      "text/plain": [
       "\"dalo\""
      ]
     },
     "execution_count": 80,
     "metadata": {},
     "output_type": "execute_result"
    }
   ],
   "source": [
    "\"¡Hola, mundo!\"[[12,6,5,13]]"
   ]
  },
  {
   "cell_type": "code",
   "execution_count": 81,
   "id": "c02b02bb",
   "metadata": {},
   "outputs": [
    {
     "data": {
      "text/plain": [
       "\"manolo\""
      ]
     },
     "execution_count": 81,
     "metadata": {},
     "output_type": "execute_result"
    }
   ],
   "source": [
    "\"¡Hola, mundo!\"[[9,6,11,13,5,4]]"
   ]
  },
  {
   "cell_type": "code",
   "execution_count": 82,
   "id": "3a957910",
   "metadata": {},
   "outputs": [
    {
     "data": {
      "text/plain": [
       "\"lodo\""
      ]
     },
     "execution_count": 82,
     "metadata": {},
     "output_type": "execute_result"
    }
   ],
   "source": [
    "\"¡Hola, mundo!\"[[5,4,12,13]]"
   ]
  },
  {
   "cell_type": "code",
   "execution_count": 83,
   "id": "bfba7edd",
   "metadata": {},
   "outputs": [
    {
     "data": {
      "text/plain": [
       "\"nudo\""
      ]
     },
     "execution_count": 83,
     "metadata": {},
     "output_type": "execute_result"
    }
   ],
   "source": [
    "\"¡Hola, mundo!\"[[11,10,12,13]]"
   ]
  },
  {
   "cell_type": "code",
   "execution_count": 85,
   "id": "b1f05287",
   "metadata": {},
   "outputs": [
    {
     "data": {
      "text/plain": [
       "\"ano\""
      ]
     },
     "execution_count": 85,
     "metadata": {},
     "output_type": "execute_result"
    }
   ],
   "source": [
    "\"¡Hola, mundo!\"[[6,11,13]]"
   ]
  },
  {
   "cell_type": "code",
   "execution_count": 86,
   "id": "dc719df4",
   "metadata": {},
   "outputs": [
    {
     "data": {
      "text/plain": [
       "\"amo\""
      ]
     },
     "execution_count": 86,
     "metadata": {},
     "output_type": "execute_result"
    }
   ],
   "source": [
    "\"¡Hola, mundo!\"[[6,9,13]]"
   ]
  },
  {
   "cell_type": "code",
   "execution_count": 87,
   "id": "0e4f51f0",
   "metadata": {},
   "outputs": [
    {
     "data": {
      "text/plain": [
       "\"moHo\""
      ]
     },
     "execution_count": 87,
     "metadata": {},
     "output_type": "execute_result"
    }
   ],
   "source": [
    "\"¡Hola, mundo!\"[[9,4,3,13]]"
   ]
  },
  {
   "cell_type": "code",
   "execution_count": 88,
   "id": "aa9f101b",
   "metadata": {},
   "outputs": [
    {
     "data": {
      "text/plain": [
       "\"modo\""
      ]
     },
     "execution_count": 88,
     "metadata": {},
     "output_type": "execute_result"
    }
   ],
   "source": [
    "\"¡Hola, mundo!\"[[9,4,12,13]]"
   ]
  },
  {
   "cell_type": "code",
   "execution_count": 89,
   "id": "5876976f",
   "metadata": {},
   "outputs": [
    {
     "data": {
      "text/plain": [
       "\"moda\""
      ]
     },
     "execution_count": 89,
     "metadata": {},
     "output_type": "execute_result"
    }
   ],
   "source": [
    "\"¡Hola, mundo!\"[[9,4,12,6]]"
   ]
  },
  {
   "cell_type": "code",
   "execution_count": 90,
   "id": "15cf70f2",
   "metadata": {},
   "outputs": [
    {
     "data": {
      "text/plain": [
       "\"uno\""
      ]
     },
     "execution_count": 90,
     "metadata": {},
     "output_type": "execute_result"
    }
   ],
   "source": [
    "\"¡Hola, mundo!\"[[10,11,13]]"
   ]
  },
  {
   "cell_type": "code",
   "execution_count": 91,
   "id": "bbb41145",
   "metadata": {},
   "outputs": [
    {
     "data": {
      "text/plain": [
       "\"una\""
      ]
     },
     "execution_count": 91,
     "metadata": {},
     "output_type": "execute_result"
    }
   ],
   "source": [
    "\"¡Hola, mundo!\"[[10,11,6]]"
   ]
  },
  {
   "cell_type": "code",
   "execution_count": 92,
   "id": "f714345e",
   "metadata": {},
   "outputs": [
    {
     "data": {
      "text/plain": [
       "\"luna\""
      ]
     },
     "execution_count": 92,
     "metadata": {},
     "output_type": "execute_result"
    }
   ],
   "source": [
    "\"¡Hola, mundo!\"[[5,10,11,6]]"
   ]
  },
  {
   "cell_type": "code",
   "execution_count": 93,
   "id": "fe590f10",
   "metadata": {},
   "outputs": [
    {
     "data": {
      "text/plain": [
       "\"duna\""
      ]
     },
     "execution_count": 93,
     "metadata": {},
     "output_type": "execute_result"
    }
   ],
   "source": [
    "\"¡Hola, mundo!\"[[12,10,11,6]]"
   ]
  },
  {
   "cell_type": "code",
   "execution_count": 94,
   "id": "2de6ad7f",
   "metadata": {},
   "outputs": [
    {
     "data": {
      "text/plain": [
       "\"dona\""
      ]
     },
     "execution_count": 94,
     "metadata": {},
     "output_type": "execute_result"
    }
   ],
   "source": [
    "\"¡Hola, mundo!\"[[12,13,11,6]]"
   ]
  },
  {
   "cell_type": "code",
   "execution_count": 96,
   "id": "f5497d36",
   "metadata": {},
   "outputs": [
    {
     "data": {
      "text/plain": [
       "\"lona\""
      ]
     },
     "execution_count": 96,
     "metadata": {},
     "output_type": "execute_result"
    }
   ],
   "source": [
    "\"¡Hola, mundo!\"[[5,13,11,6]]"
   ]
  },
  {
   "cell_type": "code",
   "execution_count": 100,
   "id": "3d5f132e",
   "metadata": {},
   "outputs": [
    {
     "data": {
      "text/plain": [
       "\"onda\""
      ]
     },
     "execution_count": 100,
     "metadata": {},
     "output_type": "execute_result"
    }
   ],
   "source": [
    "\"¡Hola, mundo!\"[[13,11,12,6]]"
   ]
  },
  {
   "cell_type": "code",
   "execution_count": 101,
   "id": "daf95ae3",
   "metadata": {},
   "outputs": [
    {
     "data": {
      "text/plain": [
       "\"nado\""
      ]
     },
     "execution_count": 101,
     "metadata": {},
     "output_type": "execute_result"
    }
   ],
   "source": [
    "\"¡Hola, mundo!\"[[11,6,12,13]]"
   ]
  },
  {
   "cell_type": "code",
   "execution_count": 103,
   "id": "07487239",
   "metadata": {},
   "outputs": [
    {
     "data": {
      "text/plain": [
       "\"don\""
      ]
     },
     "execution_count": 103,
     "metadata": {},
     "output_type": "execute_result"
    }
   ],
   "source": [
    "\"¡Hola, mundo!\"[[12,13,11]]"
   ]
  },
  {
   "cell_type": "code",
   "execution_count": 104,
   "id": "059f1999",
   "metadata": {},
   "outputs": [
    {
     "data": {
      "text/plain": [
       "\"no\""
      ]
     },
     "execution_count": 104,
     "metadata": {},
     "output_type": "execute_result"
    }
   ],
   "source": [
    "\"¡Hola, mundo!\"[[11,13]]"
   ]
  },
  {
   "cell_type": "code",
   "execution_count": 105,
   "id": "8a6ae0ce",
   "metadata": {},
   "outputs": [
    {
     "data": {
      "text/plain": [
       "\"mola\""
      ]
     },
     "execution_count": 105,
     "metadata": {},
     "output_type": "execute_result"
    }
   ],
   "source": [
    "\"¡Hola, mundo!\"[[9,13,5,6]]"
   ]
  },
  {
   "cell_type": "code",
   "execution_count": 106,
   "id": "6558f8fc",
   "metadata": {},
   "outputs": [
    {
     "data": {
      "text/plain": [
       "\"mol\""
      ]
     },
     "execution_count": 106,
     "metadata": {},
     "output_type": "execute_result"
    }
   ],
   "source": [
    "\"¡Hola, mundo!\"[[9,13,5]]"
   ]
  },
  {
   "cell_type": "code",
   "execution_count": 107,
   "id": "22185283",
   "metadata": {},
   "outputs": [
    {
     "data": {
      "text/plain": [
       "\"no\""
      ]
     },
     "execution_count": 107,
     "metadata": {},
     "output_type": "execute_result"
    }
   ],
   "source": [
    "\"¡Hola, mundo!\"[[11,13]]"
   ]
  },
  {
   "cell_type": "code",
   "execution_count": 109,
   "id": "3ea68cc9",
   "metadata": {},
   "outputs": [
    {
     "data": {
      "text/plain": [
       "\"do\""
      ]
     },
     "execution_count": 109,
     "metadata": {},
     "output_type": "execute_result"
    }
   ],
   "source": [
    "\"¡Hola, mundo!\"[[12,13]]"
   ]
  },
  {
   "cell_type": "code",
   "execution_count": 111,
   "id": "b88ef077",
   "metadata": {},
   "outputs": [
    {
     "data": {
      "text/plain": [
       "\"Humo\""
      ]
     },
     "execution_count": 111,
     "metadata": {},
     "output_type": "execute_result"
    }
   ],
   "source": [
    "\"¡Hola, mundo!\"[[3,10,9,13]]"
   ]
  },
  {
   "cell_type": "code",
   "execution_count": 113,
   "id": "8523fa5c",
   "metadata": {},
   "outputs": [
    {
     "data": {
      "text/plain": [
       "\"lomo\""
      ]
     },
     "execution_count": 113,
     "metadata": {},
     "output_type": "execute_result"
    }
   ],
   "source": [
    "\"¡Hola, mundo!\"[[5,4,9,13]]"
   ]
  },
  {
   "cell_type": "code",
   "execution_count": 114,
   "id": "5a061480",
   "metadata": {},
   "outputs": [
    {
     "data": {
      "text/plain": [
       "\"loma\""
      ]
     },
     "execution_count": 114,
     "metadata": {},
     "output_type": "execute_result"
    }
   ],
   "source": [
    "\"¡Hola, mundo!\"[[5,4,9,6]]"
   ]
  },
  {
   "cell_type": "code",
   "execution_count": 115,
   "id": "30071da5",
   "metadata": {},
   "outputs": [
    {
     "data": {
      "text/plain": [
       "\"doma\""
      ]
     },
     "execution_count": 115,
     "metadata": {},
     "output_type": "execute_result"
    }
   ],
   "source": [
    "\"¡Hola, mundo!\"[[12,4,9,6]]"
   ]
  },
  {
   "cell_type": "code",
   "execution_count": 116,
   "id": "6c12aca5",
   "metadata": {},
   "outputs": [
    {
     "data": {
      "text/plain": [
       "\"aldo\""
      ]
     },
     "execution_count": 116,
     "metadata": {},
     "output_type": "execute_result"
    }
   ],
   "source": [
    "\"¡Hola, mundo!\"[[6,5,12,13]]"
   ]
  },
  {
   "cell_type": "code",
   "execution_count": 118,
   "id": "ac1ac4e6",
   "metadata": {},
   "outputs": [
    {
     "data": {
      "text/plain": [
       "\"nodo\""
      ]
     },
     "execution_count": 118,
     "metadata": {},
     "output_type": "execute_result"
    }
   ],
   "source": [
    "\"¡Hola, mundo!\"[[11,4,12,13]]"
   ]
  },
  {
   "cell_type": "code",
   "execution_count": 121,
   "id": "d9f9fdaa",
   "metadata": {},
   "outputs": [
    {
     "data": {
      "text/plain": [
       "\"dono\""
      ]
     },
     "execution_count": 121,
     "metadata": {},
     "output_type": "execute_result"
    }
   ],
   "source": [
    "\"¡Hola, mundo!\"[[12,13,11,4]]"
   ]
  },
  {
   "cell_type": "code",
   "execution_count": 122,
   "id": "8d84c3be",
   "metadata": {},
   "outputs": [
    {
     "data": {
      "text/plain": [
       "\"olmo\""
      ]
     },
     "execution_count": 122,
     "metadata": {},
     "output_type": "execute_result"
    }
   ],
   "source": [
    "\"¡Hola, mundo!\"[[4,5,9,13]]"
   ]
  },
  {
   "cell_type": "code",
   "execution_count": 123,
   "id": "45256942",
   "metadata": {},
   "outputs": [
    {
     "data": {
      "text/plain": [
       "\"mal\""
      ]
     },
     "execution_count": 123,
     "metadata": {},
     "output_type": "execute_result"
    }
   ],
   "source": [
    "\"¡Hola, mundo!\"[[9,6,5]]"
   ]
  },
  {
   "cell_type": "code",
   "execution_count": 124,
   "id": "14461f45",
   "metadata": {},
   "outputs": [
    {
     "data": {
      "text/plain": [
       "\"domo\""
      ]
     },
     "execution_count": 124,
     "metadata": {},
     "output_type": "execute_result"
    }
   ],
   "source": [
    "\"¡Hola, mundo!\"[[12,13,9,4]]"
   ]
  },
  {
   "cell_type": "code",
   "execution_count": 125,
   "id": "dcef78f8",
   "metadata": {},
   "outputs": [
    {
     "data": {
      "text/plain": [
       "\"un\""
      ]
     },
     "execution_count": 125,
     "metadata": {},
     "output_type": "execute_result"
    }
   ],
   "source": [
    "\"¡Hola, mundo!\"[[10,11]]"
   ]
  },
  {
   "cell_type": "code",
   "execution_count": 126,
   "id": "2875011f",
   "metadata": {},
   "outputs": [
    {
     "data": {
      "text/plain": [
       "\"nulo\""
      ]
     },
     "execution_count": 126,
     "metadata": {},
     "output_type": "execute_result"
    }
   ],
   "source": [
    "\"¡Hola, mundo!\"[[11,10,5,13]]"
   ]
  },
  {
   "cell_type": "code",
   "execution_count": 127,
   "id": "f628a81d",
   "metadata": {},
   "outputs": [
    {
     "data": {
      "text/plain": [
       "\"nula\""
      ]
     },
     "execution_count": 127,
     "metadata": {},
     "output_type": "execute_result"
    }
   ],
   "source": [
    "\"¡Hola, mundo!\"[[11,10,5,6]]"
   ]
  },
  {
   "cell_type": "markdown",
   "id": "616ffc26",
   "metadata": {},
   "source": [
    "## Recursos complementarios\n",
    "\n",
    "Documentación de Julia:\n",
    "* [Manual de arreglos](https://docs.julialang.org/en/v1/manual/arrays/),\n",
    "* [Manual de `String`s](https://docs.julialang.org/en/v1/manual/strings/),\n",
    "* [Documentación de arreglos](https://docs.julialang.org/en/v1/base/arrays/#Concatenation-and-permutation)."
   ]
  }
 ],
 "metadata": {
  "kernelspec": {
   "display_name": "Julia 1.7.2",
   "language": "julia",
   "name": "julia-1.7"
  },
  "language_info": {
   "file_extension": ".jl",
   "mimetype": "application/julia",
   "name": "julia",
   "version": "1.7.2"
  }
 },
 "nbformat": 4,
 "nbformat_minor": 5
}
